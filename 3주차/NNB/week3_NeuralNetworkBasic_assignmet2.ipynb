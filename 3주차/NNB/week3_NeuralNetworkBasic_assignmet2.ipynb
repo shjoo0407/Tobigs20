{
 "cells": [
  {
   "cell_type": "markdown",
   "metadata": {},
   "source": [
    "# 3주차 Neural Network 과제는 인공신경망을 논리게이트부터 차례대로 쌓아올려 직접 짜보는 것입니다.\n",
    "# 중간 중간 남겨진 주석을 따라 코드를 완성시켜 주세요"
   ]
  },
  {
   "cell_type": "markdown",
   "metadata": {},
   "source": [
    "## 논리 게이트 구현"
   ]
  },
  {
   "cell_type": "code",
   "execution_count": 1,
   "metadata": {},
   "outputs": [],
   "source": [
    "## AND gate 구현해주세요\n",
    "# w1, w2 => 가중치(weight)를 의미하는 변수\n",
    "# theta : threshold\n",
    "\n",
    "def AND(x1, x2):\n",
    "    return x1 and x2\n",
    "\n",
    "\n",
    "def NAND(x1, x2):\n",
    "    return not (x1 and x2)\n",
    "\n",
    "\n",
    "def OR(x1, x2):\n",
    "    return x1 or x2\n",
    "\n",
    "\n",
    "# 위 논리 게이트를 조합하여 XOR gate 구현해주세요\n",
    "\n",
    "def XOR(x1, x2):\n",
    "    first = AND(x1,NAND(x1,x2))\n",
    "    second = AND(NAND(x1,x2),x2)\n",
    "    return OR(first,second)\n",
    "\n",
    "\n",
    "        "
   ]
  },
  {
   "cell_type": "markdown",
   "metadata": {},
   "source": [
    "## 활성함수 구현"
   ]
  },
  {
   "cell_type": "code",
   "execution_count": 2,
   "metadata": {},
   "outputs": [
    {
     "name": "stdout",
     "output_type": "stream",
     "text": [
      "input :  [-1  1  2]\n",
      "Logic :  [False  True  True]\n",
      "Boolean :  [0 1 1]\n"
     ]
    },
    {
     "name": "stderr",
     "output_type": "stream",
     "text": [
      "C:\\Users\\shjoo\\AppData\\Local\\Temp\\ipykernel_9164\\333860784.py:14: DeprecationWarning: `np.int` is a deprecated alias for the builtin `int`. To silence this warning, use `int` by itself. Doing this will not modify any behavior and is safe. When replacing `np.int`, you may wish to use e.g. `np.int64` or `np.int32` to specify the precision. If you wish to review your current use, check the release note link for additional information.\n",
      "Deprecated in NumPy 1.20; for more details and guidance: https://numpy.org/devdocs/release/1.20.0-notes.html#deprecations\n",
      "  y = y.astype(np.int)\n"
     ]
    }
   ],
   "source": [
    "import numpy as np\n",
    "import matplotlib.pyplot as plt\n",
    "import math\n",
    "\n",
    "# 입력할 샘플 데이터를 만들고 확인합니다.\n",
    "x = np.array([-1, 1, 2])\n",
    "print(\"input : \", x)\n",
    "\n",
    "# 입력 값이 임계값(0)을 넘기는지 판단합니다.\n",
    "y = x>0\n",
    "print(\"Logic : \", y)\n",
    "\n",
    "# 논리(boolean)형태를 정수형으로 바꾸어 0과 1로 나타냅니다.\n",
    "y = y.astype(np.int)\n",
    "print(\"Boolean : \", y)"
   ]
  },
  {
   "cell_type": "code",
   "execution_count": 7,
   "metadata": {},
   "outputs": [
    {
     "name": "stdout",
     "output_type": "stream",
     "text": [
      "0\n",
      "1\n",
      "1\n"
     ]
    }
   ],
   "source": [
    "# STEP 함수 구현\n",
    "def step_function(x):\n",
    "    return np.where(x>=0,1,0)\n",
    "\n",
    "\n",
    "# 함수가 제대로 만들어 졌는지 값을 출력해봅니다.\n",
    "print(step_function(-1))\t# 0\n",
    "print(step_function(0.5))\t# 1\n",
    "print(step_function(500000))\t# 1"
   ]
  },
  {
   "cell_type": "code",
   "execution_count": 8,
   "metadata": {},
   "outputs": [
    {
     "data": {
      "image/png": "[encoded data removed]",
      "text/plain": [
       "<Figure size 432x288 with 1 Axes>"
      ]
     },
     "metadata": {
      "needs_background": "light"
     },
     "output_type": "display_data"
    }
   ],
   "source": [
    "# 구현한 계단 함수의 값을 바탕으로 그래프를 그려봅시다.\n",
    "x = np.linspace(-1, 1, 100)\n",
    "plt.step(x, step_function(x))\n",
    "plt.show()"
   ]
  },
  {
   "cell_type": "code",
   "execution_count": 11,
   "metadata": {},
   "outputs": [
    {
     "name": "stdout",
     "output_type": "stream",
     "text": [
      "[0.00669285 0.26894142 0.5        0.52497919 0.99330715 1.        ]\n"
     ]
    },
    {
     "data": {
      "image/png": "[encoded data removed]",
      "text/plain": [
       "<Figure size 432x288 with 1 Axes>"
      ]
     },
     "metadata": {
      "needs_background": "light"
     },
     "output_type": "display_data"
    }
   ],
   "source": [
    "# Sigmoid 함수 구현\n",
    "import math\n",
    "\n",
    "def sigmoid(x):\n",
    "    return 1 / (1 + np.exp(-x))\n",
    "\n",
    "\n",
    "x = np.array([-5, -1, 0, 0.1, 5, 500000])\n",
    "print(sigmoid(x))\n",
    "\n",
    "x = np.linspace(-10, 10, 100)\n",
    "\n",
    "plt.plot(x, sigmoid(x))\n",
    "plt.xlabel(\"x\")\n",
    "plt.ylabel(\"Sigmoid(X)\")\n",
    "\n",
    "plt.show()"
   ]
  },
  {
   "cell_type": "code",
   "execution_count": 12,
   "metadata": {},
   "outputs": [
    {
     "data": {
      "image/png": "[encoded data removed]",
      "text/plain": [
       "<Figure size 432x288 with 1 Axes>"
      ]
     },
     "metadata": {
      "needs_background": "light"
     },
     "output_type": "display_data"
    },
    {
     "data": {
      "text/plain": [
       "<Figure size 432x288 with 0 Axes>"
      ]
     },
     "metadata": {},
     "output_type": "display_data"
    }
   ],
   "source": [
    "# ReLU 함수 구현\n",
    "def ReLU(x):\n",
    "    return np.maximum(0,x)\n",
    "\n",
    "x = np.arange(-3, 3, .1)\n",
    "y = ReLU(x)\n",
    "\n",
    "fig = plt.figure()\n",
    "ax = fig.add_subplot(111)\n",
    "ax.plot(x, y)\n",
    "ax.set_ylim([-1.0, 3.0])\n",
    "ax.set_xlim([-3.0, 3.0])\n",
    "#ax.grid(True)\n",
    "ax.set_xlabel('z')\n",
    "ax.set_title('ReLU: Rectified linear unit')\n",
    "\n",
    "plt.show()\n",
    "fig = plt.gcf()"
   ]
  },
  {
   "cell_type": "markdown",
   "metadata": {},
   "source": [
    "## 신경망 구현"
   ]
  },
  {
   "cell_type": "code",
   "execution_count": 13,
   "metadata": {},
   "outputs": [],
   "source": [
    "def init_network():\n",
    "    \"\"\"\n",
    "    W1,W2 : 가중치\n",
    "    B1,B2 : 편향\n",
    "    값은 일단 마음대로 지정한 값이니 신경쓰지 않으셔도 됩니다.\n",
    "    \"\"\"\n",
    "    network = {}\n",
    "    network['W1'] = np.array([[0.1, 0.3, 0.5, 0.7], [0.1, 0.3, 0.3, 0.7], [0.2, 0.1, 0.6, 0.8]]) # 3 x 4\n",
    "    network['B1'] = np.array([0.11, 0.12, 0.13, 0.14]) # 4개\n",
    "    network['W2'] = np.array([[0.1, 0.5], [0.2, 0.6], [0.3, 0.4], [0.35, 0.35]]) # 4 x 2\n",
    "    network['B2'] = np.array([0.1, 0.5]) # 2개\n",
    "\n",
    "    return network"
   ]
  },
  {
   "cell_type": "code",
   "execution_count": 40,
   "metadata": {},
   "outputs": [],
   "source": [
    "# 순전파 함수 정의\n",
    "\n",
    "# ReLU함수를 활성화 함수로 사용하였습니다.\n",
    "\n",
    "def forward(network, x):\n",
    "  W1, W2 = network['W1'], network['W2']\n",
    "  b1, b2 = network['B1'], network['B2']\n",
    "\n",
    " # 아래 빈칸 채워주세요\n",
    "  a1 = np.dot(x,W1) + b1\n",
    "  z1 = ReLU(a1)\n",
    "  a2 = np.dot(z1, W2) + b2\n",
    "\n",
    "  y = a2\n",
    "  return y"
   ]
  },
  {
   "cell_type": "code",
   "execution_count": 41,
   "metadata": {},
   "outputs": [
    {
     "name": "stdout",
     "output_type": "stream",
     "text": [
      "[1.2405 2.1765]\n"
     ]
    }
   ],
   "source": [
    "# 네트워크 제작\n",
    "network = init_network()\n",
    "\n",
    "# 샘플 입력 데이터\n",
    "x = np.array([1, 0.5, 0.7])\n",
    "\n",
    "# 순전파 실행\n",
    "y = forward(network, x)\n",
    "print(y)"
   ]
  },
  {
   "cell_type": "markdown",
   "metadata": {},
   "source": [
    "## 직접 신경망 만들어보기"
   ]
  },
  {
   "cell_type": "code",
   "execution_count": 64,
   "metadata": {},
   "outputs": [],
   "source": [
    "# 랜덤 시드(Random Seed)를 고정합니다.\n",
    "np.random.seed(405)\n",
    "\n",
    "# X: 입력(inputs)\n",
    "X = np.array([\n",
    "    [0, 0]\n",
    "    ,[0, 1]\n",
    "    ,[1, 0]\n",
    "    ,[1, 1]\n",
    "])\n",
    "\n",
    "# 편향(bias)\n",
    "b = 1\n",
    "\n",
    "# Y: 타겟값(target, correct outputs)\n",
    "Y= np.array([[0],[1],[1],[1]])"
   ]
  },
  {
   "cell_type": "code",
   "execution_count": 65,
   "metadata": {},
   "outputs": [],
   "source": [
    "# 시그모이드 함수\n",
    "# net: 입력과 가중치의 가중합\n",
    "def sigmoid(net):\n",
    "#위에서 구현한 코드 그대로\n",
    "    return 1 / (1 + np.exp(-net))\n",
    "\n",
    "\n",
    "# 시그모이드 함수의 도함수 구현\n",
    "# https://towardsdatascience.com/derivative-of-the-sigmoid-function-536880cf918e\n",
    "def sigmoid_prime(net):\n",
    "    sig = sigmoid(net)\n",
    "    return sig * (1-sig)  ##여기에 도함수 구현"
   ]
  },
  {
   "cell_type": "code",
   "execution_count": 66,
   "metadata": {},
   "outputs": [
    {
     "data": {
      "image/png": "[encoded data removed]",
      "text/plain": [
       "<Figure size 432x288 with 1 Axes>"
      ]
     },
     "metadata": {
      "needs_background": "light"
     },
     "output_type": "display_data"
    }
   ],
   "source": [
    "# 시그모이드 함수가 잘 생성되었는지 그래프를 출력해봅시다.\n",
    "x_range = np.arange(-10., 10., 0.2)\n",
    "y_range = np.array([sigmoid(x) for x in x_range])\n",
    "y_prime = np.array([sigmoid_prime(x) for x in x_range])\n",
    "\n",
    "plt.plot(x_range, y_range, label='sigmoid')\n",
    "plt.plot(x_range, y_prime, label='sigmoid_prime')\n",
    "plt.legend()\n",
    "plt.show();"
   ]
  },
  {
   "cell_type": "code",
   "execution_count": 67,
   "metadata": {},
   "outputs": [
    {
     "name": "stdout",
     "output_type": "stream",
     "text": [
      "[[1.        ]\n",
      " [0.55654784]\n",
      " [1.40316676]\n",
      " [0.9597146 ]]\n"
     ]
    },
    {
     "data": {
      "text/plain": [
       "'\\narray([[1.        ],\\n       [0.55654784],\\n       [1.40316676],\\n       [0.9597146 ]])\\n'"
      ]
     },
     "execution_count": 67,
     "metadata": {},
     "output_type": "execute_result"
    }
   ],
   "source": [
    "# 초기 가중치\n",
    "W = np.array([0.40316676, -0.44345216]).reshape(-1,1)\n",
    "\n",
    "# 입력 데이터와 가중치 연산\n",
    "Z = np.dot(X,W) + b     \n",
    "print(Z)#Feedforward 연산 참고하여 코드 작성\n",
    "\n",
    "\"\"\"\n",
    "array([[1.        ],\n",
    "       [0.55654784],\n",
    "       [1.40316676],\n",
    "       [0.9597146 ]])\n",
    "\"\"\""
   ]
  },
  {
   "cell_type": "code",
   "execution_count": 68,
   "metadata": {},
   "outputs": [
    {
     "name": "stdout",
     "output_type": "stream",
     "text": [
      "[[0.73105858]\n",
      " [0.6356534 ]\n",
      " [0.80268592]\n",
      " [0.72306466]]\n"
     ]
    },
    {
     "data": {
      "text/plain": [
       "'\\narray([[0.73105858],\\n       [0.6356534 ],\\n       [0.80268592],\\n       [0.72306466]])\\n'"
      ]
     },
     "execution_count": 68,
     "metadata": {},
     "output_type": "execute_result"
    }
   ],
   "source": [
    "# A: 출력(activated outputs)\n",
    "A = sigmoid(Z)\n",
    "print(A)\n",
    "\n",
    "\"\"\"\n",
    "array([[0.73105858],\n",
    "       [0.6356534 ],\n",
    "       [0.80268592],\n",
    "       [0.72306466]])\n",
    "\"\"\""
   ]
  },
  {
   "cell_type": "markdown",
   "metadata": {},
   "source": [
    "## 미분한 값을 코드로 구현\n",
    "=> 출력 오차를 줄이기 위한 역전파(경사하강법 이용)\n",
    "\n",
    "경사 하강법(Gradient descent) : 손실 값이 최소가 되는 가중치(weight)를 찾는 방법\n",
    "역전파 알고리즘 : 경사 하강법에 필요한 미분값을 빠르고 효율적으로 찾는 알고리즘\n",
    "\n",
    "da = ∂E/∂A (MSE를 미분하여 나오는 값)\n",
    "dz = ∂E/∂z\n",
    "dw, db = 각각 가중치(weight), 편향(bias) 업데이트 값"
   ]
  },
  {
   "cell_type": "code",
   "execution_count": 70,
   "metadata": {
    "pycharm": {
     "is_executing": true
    }
   },
   "outputs": [
    {
     "name": "stdout",
     "output_type": "stream",
     "text": [
      "dz : [[ 0.14373484]\n",
      " [-0.084382  ]\n",
      " [-0.03125085]\n",
      " [-0.05545413]],\n",
      " dw : [[-0.08670498]\n",
      " [-0.13983613]], \n",
      " db : -0.02735213564501296\n"
     ]
    },
    {
     "data": {
      "text/plain": [
       "'\\ndz :\\n [[ 0.14373484]\\n [-0.084382  ]\\n [-0.03125085]\\n [-0.05545413]]\\n\\ndw :\\n [[-0.08670498]\\n [-0.13983613]]\\n\\ndb :\\n [[-0.10753744]]\\n'"
      ]
     },
     "execution_count": 70,
     "metadata": {},
     "output_type": "execute_result"
    }
   ],
   "source": [
    "def backpropagation(Y, A, Z):\n",
    "    da = A - Y\n",
    "    dz = np.multiply(da, sigmoid_prime(Z)).reshape(-1, 1)\n",
    "    dw = np.dot(X.T, dz).reshape(-1, 1)\n",
    "    db = np.sum(dz)\n",
    "\n",
    "#     print(\"dz : \\n\", dz, \"\\n\")\n",
    "#     print(\"dw : \\n\", dw, \"\\n\")\n",
    "#     print(\"db : \\n\", db, \"\\n\")\n",
    "    return dz, dw, db\n",
    "\n",
    "dz, dw, db = backpropagation(Y,A,Z)\n",
    "print(f'dz : {dz},\\n dw : {dw}, \\n db : {db}')\n",
    "\n",
    "\"\"\"\n",
    "dz :\n",
    " [[ 0.14373484]\n",
    " [-0.084382  ]\n",
    " [-0.03125085]\n",
    " [-0.05545413]]\n",
    "\n",
    "dw :\n",
    " [[-0.08670498]\n",
    " [-0.13983613]]\n",
    "\n",
    "db :\n",
    " [[-0.10753744]]\n",
    "\"\"\""
   ]
  },
  {
   "cell_type": "code",
   "execution_count": 71,
   "metadata": {},
   "outputs": [
    {
     "name": "stdout",
     "output_type": "stream",
     "text": [
      "기존 가중치: \n",
      " [[ 0.40316676]\n",
      " [-0.44345216]] \n",
      "\n"
     ]
    },
    {
     "data": {
      "text/plain": [
       "'\\n기존 가중치:\\n [[ 0.40316676]\\n [-0.44345216]]\\n'"
      ]
     },
     "execution_count": 71,
     "metadata": {},
     "output_type": "execute_result"
    }
   ],
   "source": [
    "print(\"기존 가중치: \\n\", W, \"\\n\")\n",
    "\"\"\"\n",
    "기존 가중치:\n",
    " [[ 0.40316676]\n",
    " [-0.44345216]]\n",
    "\"\"\""
   ]
  },
  {
   "cell_type": "code",
   "execution_count": 72,
   "metadata": {},
   "outputs": [
    {
     "name": "stdout",
     "output_type": "stream",
     "text": [
      "업데이트 후 가중치: \n",
      " [[ 0.31646178]\n",
      " [-0.58328829]] \n",
      "\n",
      "업데이트 후 bias: \n",
      " 0.9726478643549871 \n",
      "\n"
     ]
    },
    {
     "data": {
      "text/plain": [
       "'\\n업데이트 후 가중치:\\n [[ 0.31646178]\\n [-0.58328829]]\\n\\n업데이트 후 bias:\\n [[0.89246256]]\\n'"
      ]
     },
     "execution_count": 72,
     "metadata": {},
     "output_type": "execute_result"
    }
   ],
   "source": [
    "# 가중치 업데이트(batch)\n",
    "W += dw\n",
    "b += db\n",
    "\n",
    "print(\"업데이트 후 가중치: \\n\", W, \"\\n\")\n",
    "print(\"업데이트 후 bias: \\n\", b, \"\\n\")\n",
    "\n",
    "\"\"\"\n",
    "업데이트 후 가중치:\n",
    " [[ 0.31646178]\n",
    " [-0.58328829]]\n",
    "\n",
    "업데이트 후 bias:\n",
    " [[0.89246256]]\n",
    "\"\"\""
   ]
  },
  {
   "cell_type": "code",
   "execution_count": 74,
   "metadata": {},
   "outputs": [
    {
     "name": "stdout",
     "output_type": "stream",
     "text": [
      "학습 전 가중치: \n",
      " [[-0.79003947]\n",
      " [ 0.6826574 ]]\n",
      "학습 후 가중치: \n",
      " [[-3.48897873]\n",
      " [-3.2721019 ]] \n",
      "\n",
      "학습 후 bias: \n",
      " -4.545962410796568 \n",
      "\n",
      "학습 후 예측값: \n",
      " [[0.011]\n",
      " [0.   ]\n",
      " [0.   ]\n",
      " [0.   ]] \n",
      "\n"
     ]
    },
    {
     "data": {
      "text/plain": [
       "'\\n학습 후 가중치:\\n [[5.92060487]\\n [5.92082351]]\\n\\n학습 후 bias:\\n [[-2.59025899]]\\n\\n학습 후 예측값:\\n [[0.07 ]\\n [0.965]\\n [0.965]\\n [1.   ]]\\n'"
      ]
     },
     "execution_count": 74,
     "metadata": {},
     "output_type": "execute_result"
    }
   ],
   "source": [
    "## 최적 가중치 찾기\n",
    "# 이미 입력 데이터와 타겟 출력은 윗 부분에서 선언함\n",
    "\n",
    "# 가중치 초기화\n",
    "# 아래 각주 코드 하나씩 실행하여 결과값 달라지는 확인해보시기 바랍니다\n",
    "\n",
    "# W = 2 * np.random.random((2,1)) - 1\n",
    "W =  np.array([-0.79003947, 0.6826574 ]).reshape(-1,1)\n",
    "# W = np.zeros((2,1))\n",
    "\n",
    "b = 0\n",
    "\n",
    "print('학습 전 가중치: \\n', W)\n",
    "\n",
    "# 가중치 업데이트 10,000회 (10,000 epoch)\n",
    "\n",
    "for iteration in range(1000):\n",
    "\n",
    "    # 순방향 전파\n",
    "    Z = np.dot(X, W) + b\n",
    "    A = sigmoid(Z)\n",
    "\n",
    "    # 역방향 전파(기울기 계산)\n",
    "    dz, dw, db = backpropagation(Y, A, Z)\n",
    "\n",
    "    W += dw\n",
    "    b += db\n",
    "\n",
    "print('학습 후 가중치: \\n', W, \"\\n\")\n",
    "print('학습 후 bias: \\n', b, \"\\n\")\n",
    "print('학습 후 예측값: \\n', A.round(3), \"\\n\")\n",
    "\n",
    "\"\"\"\n",
    "학습 후 가중치:\n",
    " [[5.92060487]\n",
    " [5.92082351]]\n",
    "\n",
    "학습 후 bias:\n",
    " [[-2.59025899]]\n",
    "\n",
    "학습 후 예측값:\n",
    " [[0.07 ]\n",
    " [0.965]\n",
    " [0.965]\n",
    " [1.   ]]\n",
    "\"\"\""
   ]
  },
  {
   "cell_type": "markdown",
   "metadata": {},
   "source": [
    "## IRIS DATA PERCEPTRON 학습예제"
   ]
  },
  {
   "cell_type": "code",
   "execution_count": 76,
   "metadata": {},
   "outputs": [],
   "source": [
    "### 1. 필요한 패키지를 import 하고 Iris 데이터셋 불러오기\n",
    "import pandas as pd\n",
    "import numpy as np\n",
    "import matplotlib.pyplot as plt\n",
    "\n",
    "# iris 데이터를 DataFrame 형태로 불러옵니다.\n",
    "df = pd.read_csv('https://archive.ics.uci.edu/ml/machine-learning-databases/iris/iris.data', header=None)"
   ]
  },
  {
   "cell_type": "markdown",
   "metadata": {},
   "source": [
    "### 아래 제공된 전처리 코드를 참고하여 자신만의 전처리 코드를 작성해봅니다."
   ]
  },
  {
   "cell_type": "code",
   "execution_count": 77,
   "metadata": {},
   "outputs": [
    {
     "data": {
      "image/png": "[encoded data removed]",
      "text/plain": [
       "<Figure size 432x288 with 1 Axes>"
      ]
     },
     "metadata": {
      "needs_background": "light"
     },
     "output_type": "display_data"
    }
   ],
   "source": [
    "\n",
    "### 2. 데이터 전처리(Preprocessing) 및 시각화(Visualization)\n",
    "# 50 setosa, 50 versicolor 데이터만 사용하여 이진 분류(Binary Classification) 문제를 풀어보겠습니다.\n",
    "\n",
    "y = df.iloc[0:100, 4].values\n",
    "y\n",
    "\"\"\"\n",
    "array(['Iris-setosa', 'Iris-setosa', 'Iris-setosa', 'Iris-setosa',\n",
    "       'Iris-setosa', 'Iris-setosa', 'Iris-setosa', 'Iris-setosa',\n",
    "       'Iris-setosa', 'Iris-setosa', 'Iris-setosa', 'Iris-setosa',\n",
    "       'Iris-setosa', 'Iris-setosa', 'Iris-setosa', 'Iris-setosa',\n",
    "       'Iris-setosa', 'Iris-setosa', 'Iris-setosa', 'Iris-setosa',\n",
    "       'Iris-setosa', 'Iris-setosa', 'Iris-setosa', 'Iris-setosa',\n",
    "       'Iris-setosa', 'Iris-setosa', 'Iris-setosa', 'Iris-setosa',\n",
    "       'Iris-setosa', 'Iris-setosa', 'Iris-setosa', 'Iris-setosa',\n",
    "       'Iris-setosa', 'Iris-setosa', 'Iris-setosa', 'Iris-setosa',\n",
    "       'Iris-setosa', 'Iris-setosa', 'Iris-setosa', 'Iris-setosa',\n",
    "       'Iris-setosa', 'Iris-setosa', 'Iris-setosa', 'Iris-setosa',\n",
    "       'Iris-setosa', 'Iris-setosa', 'Iris-setosa', 'Iris-setosa',\n",
    "       'Iris-setosa', 'Iris-setosa', 'Iris-versicolor', 'Iris-versicolor',\n",
    "       'Iris-versicolor', 'Iris-versicolor', 'Iris-versicolor',\n",
    "       'Iris-versicolor', 'Iris-versicolor', 'Iris-versicolor',\n",
    "       'Iris-versicolor', 'Iris-versicolor', 'Iris-versicolor',\n",
    "       'Iris-versicolor', 'Iris-versicolor', 'Iris-versicolor',\n",
    "       'Iris-versicolor', 'Iris-versicolor', 'Iris-versicolor',\n",
    "       'Iris-versicolor', 'Iris-versicolor', 'Iris-versicolor',\n",
    "       'Iris-versicolor', 'Iris-versicolor', 'Iris-versicolor',\n",
    "       'Iris-versicolor', 'Iris-versicolor', 'Iris-versicolor',\n",
    "       'Iris-versicolor', 'Iris-versicolor', 'Iris-versicolor',\n",
    "       'Iris-versicolor', 'Iris-versicolor', 'Iris-versicolor',\n",
    "       'Iris-versicolor', 'Iris-versicolor', 'Iris-versicolor',\n",
    "       'Iris-versicolor', 'Iris-versicolor', 'Iris-versicolor',\n",
    "       'Iris-versicolor', 'Iris-versicolor', 'Iris-versicolor',\n",
    "       'Iris-versicolor', 'Iris-versicolor', 'Iris-versicolor',\n",
    "       'Iris-versicolor', 'Iris-versicolor', 'Iris-versicolor',\n",
    "       'Iris-versicolor', 'Iris-versicolor', 'Iris-versicolor'],\n",
    "      dtype=object)\n",
    "\"\"\"\n",
    "\n",
    "# 타겟 레이블을 setosa = -1, versicolor = 1 로 바꾸기\n",
    "y = np.where(y == 'Iris-setosa', -1, 1)\n",
    "y\n",
    "\"\"\"\n",
    "array([-1, -1, -1, -1, -1, -1, -1, -1, -1, -1, -1, -1, -1, -1, -1, -1, -1,\n",
    "       -1, -1, -1, -1, -1, -1, -1, -1, -1, -1, -1, -1, -1, -1, -1, -1, -1,\n",
    "       -1, -1, -1, -1, -1, -1, -1, -1, -1, -1, -1, -1, -1, -1, -1, -1,  1,\n",
    "        1,  1,  1,  1,  1,  1,  1,  1,  1,  1,  1,  1,  1,  1,  1,  1,  1,\n",
    "        1,  1,  1,  1,  1,  1,  1,  1,  1,  1,  1,  1,  1,  1,  1,  1,  1,\n",
    "        1,  1,  1,  1,  1,  1,  1,  1,  1,  1,  1,  1,  1,  1,  1])\n",
    "\"\"\"\n",
    "\n",
    "# 두 개의 특성(sepal length, petal length)만 사용\n",
    "X = df.iloc[0:100, [0, 2]].values\n",
    "X.shape\n",
    "\"\"\"\n",
    "(100, 2)\n",
    "\"\"\"\n",
    "\n",
    "# 두 특성에 따라 데이터 시각화\n",
    "plt.scatter(X[:50, 0], X[:50, 1], color='red', marker='o', label='setosa')\n",
    "plt.scatter(X[50:100, 0], X[50:100, 1], color='blue', marker='x', label='versicolor')\n",
    "plt.xlabel('sepal length')\n",
    "plt.ylabel('petal length')\n",
    "plt.legend(loc='upper left')\n",
    "plt.show()"
   ]
  },
  {
   "cell_type": "code",
   "execution_count": 79,
   "metadata": {},
   "outputs": [
    {
     "data": {
      "image/png": "[encoded data removed]",
      "text/plain": [
       "<Figure size 432x288 with 1 Axes>"
      ]
     },
     "metadata": {
      "needs_background": "light"
     },
     "output_type": "display_data"
    }
   ],
   "source": [
    "### 퍼셉트론(Perceptron)을 구현\n",
    "class Perceptron:\n",
    "    # niter = iteration 의 횟수입니다.\n",
    "    # iteration에 대해서는 다음 강의에서 자세히 배울 것이므로 반복 횟수 정도로만 이해하셔도 충분합니다.\n",
    "    def __init__(self, rate = 0.01, niter = 10):\n",
    "        self.rate = rate\n",
    "        self.niter = niter\n",
    "\n",
    "    def fit(self, X, y):\n",
    "        \"\"\"\n",
    "        퍼셉트론을 학습시키는 코드입니다.\n",
    "\n",
    "        X : 학습되는 데이터에 해당하는 벡터입니다.\n",
    "        X.shape -> [샘플의 수, 특성의 수] 가 되어야 합니다.\n",
    "\n",
    "        y : 타겟값입니다.\n",
    "        y.shape -> [샘플의 수] 가 되어야 합니다.\n",
    "        \"\"\"\n",
    "\n",
    "        # 초기 가중치는 [0, 0, 0] 으로 설정합니다.\n",
    "        self.weight = np.zeros(1 + X.shape[1])\n",
    "\n",
    "        # 오분류(mis-classification)된 데이터의 수\n",
    "        self.errors = []\n",
    "\n",
    "        for i in range(self.niter):\n",
    "            err = 0\n",
    "            for xi, target in zip(X, y):\n",
    "                delta_w = self.rate * (target - self.predict(xi))\n",
    "                self.weight[1:] += delta_w * xi\n",
    "                self.weight[0] += delta_w\n",
    "                err += int(delta_w != 0.0)\n",
    "            self.errors.append(err)\n",
    "        return self\n",
    "\n",
    "    def net_input(self, X):\n",
    "        \"\"\"\n",
    "        입력값을 받아 가중치, 편향과 연산해줍니다.\n",
    "        \"\"\"\n",
    "        return np.dot(X,self.weight[1:]) + self.weight[0]                                                                    #코드 채워 넣기\n",
    "\n",
    "    def predict(self, X):\n",
    "        \"\"\"\n",
    "        학습 후 가중치를 바탕으로 데이터의 클래스를 예측합니다.\n",
    "        \"\"\"\n",
    "        return np.where(self.net_input(X) >= 0.0, 1, -1)\n",
    "\n",
    "\n",
    "### 4. 퍼셉트론에 데이터 넣어 가중치를 학습\n",
    "# 학습률(learning rate): 0.1, iteration(epoch): 10\n",
    "# 퍼셉트론을 학습시키고 오분류(mis-classification)의 변화를 살펴보겠습니다.\n",
    "pn = Perceptron(0.1, 10)\n",
    "pn.fit(X, y)\n",
    "plt.plot(range(1, len(pn.errors) + 1), pn.errors, marker='o')\n",
    "plt.xlabel('Epochs')\n",
    "plt.ylabel('Number of misclassifications')\n",
    "plt.show()"
   ]
  },
  {
   "cell_type": "code",
   "execution_count": 80,
   "metadata": {},
   "outputs": [
    {
     "data": {
      "image/png": "[encoded data removed]",
      "text/plain": [
       "<Figure size 432x288 with 1 Axes>"
      ]
     },
     "metadata": {
      "needs_background": "light"
     },
     "output_type": "display_data"
    }
   ],
   "source": [
    "### 데이터가 잘 분류 되었는지 확인\n",
    "# 퍼셉트론의 결정 경계를 확인해 보겠습니다.\n",
    "from matplotlib.colors import ListedColormap\n",
    "\n",
    "def plot_decision_regions(X, y, classifier, resolution=0.02):\n",
    "\n",
    "    # 그래프 요소를 세팅하여줍니다.\n",
    "    markers = ('s', 'x', 'o', '^', 'v')\n",
    "    colors = ('red', 'blue', 'lightgreen', 'gray', 'cyan')\n",
    "    cmap = ListedColormap(colors[:len(np.unique(y))])\n",
    "\n",
    "    # 결정 경계면을 그려보겠습니다.\n",
    "    x1_min, x1_max = X[:,  0].min() - 1, X[:, 0].max() + 1\n",
    "    x2_min, x2_max = X[:, 1].min() - 1, X[:, 1].max() + 1\n",
    "    xx1, xx2 = np.meshgrid(np.arange(x1_min, x1_max, resolution),\n",
    "    np.arange(x2_min, x2_max, resolution))\n",
    "    Z = classifier.predict(np.array([xx1.ravel(), xx2.ravel()]).T)\n",
    "    Z = Z.reshape(xx1.shape)\n",
    "    plt.contourf(xx1, xx2, Z, alpha=0.4, cmap=cmap)\n",
    "    plt.xlim(xx1.min(), xx1.max())\n",
    "    plt.ylim(xx2.min(), xx2.max())\n",
    "\n",
    "    # 데이터를 그립니다\n",
    "    for idx, cl in enumerate(np.unique(y)):\n",
    "        plt.scatter(x=X[y == cl, 0], y=X[y == cl, 1],\n",
    "        alpha=0.8, color=cmap(idx),\n",
    "        marker=markers[idx], label=cl)\n",
    "\n",
    "plot_decision_regions(X, y, classifier=pn)\n",
    "plt.xlabel('sepal length [cm]')\n",
    "plt.ylabel('petal length [cm]')\n",
    "plt.legend(loc='upper left')\n",
    "plt.show()\n"
   ]
  },
  {
   "cell_type": "markdown",
   "metadata": {},
   "source": [
    "## 고생하셨습니다"
   ]
  },
  {
   "cell_type": "code",
   "execution_count": null,
   "metadata": {},
   "outputs": [],
   "source": []
  }
 ],
 "metadata": {
  "kernelspec": {
   "display_name": "Python 3 (ipykernel)",
   "language": "python",
   "name": "python3"
  },
  "language_info": {
   "codemirror_mode": {
    "name": "ipython",
    "version": 3
   },
   "file_extension": ".py",
   "mimetype": "text/x-python",
   "name": "python",
   "nbconvert_exporter": "python",
   "pygments_lexer": "ipython3",
   "version": "3.8.0"
  }
 },
 "nbformat": 4,
 "nbformat_minor": 1
}
